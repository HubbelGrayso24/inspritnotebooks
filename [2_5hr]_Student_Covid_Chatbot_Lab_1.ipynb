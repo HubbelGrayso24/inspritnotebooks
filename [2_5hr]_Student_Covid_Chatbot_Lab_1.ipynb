{
  "nbformat": 4,
  "nbformat_minor": 0,
  "metadata": {
    "colab": {
      "name": "[2.5hr] Student Covid Chatbot Lab 1.ipynb",
      "provenance": [],
      "collapsed_sections": []
    },
    "kernelspec": {
      "name": "python3",
      "display_name": "Python 3"
    }
  },
  "cells": [
    {
      "cell_type": "markdown",
      "metadata": {
        "id": "XM0WlIFZo1ws"
      },
      "source": [
        "#Building a COVID-19 Symptom Checking Chatbot with Python\n",
        "\n",
        "In this notebook, we'll start using Python and build a simple version of our chatbot. Later, we'll teach our chatbot to handle more situations and build a website for it so anyone can use it!"
      ]
    },
    {
      "cell_type": "markdown",
      "metadata": {
        "id": "nb1_3yyGsvHG"
      },
      "source": [
        "#Printing and Comments\n",
        "\n",
        "Of course, the first thing a chatbot needs to do is print something out. Python makes that easy:"
      ]
    },
    {
      "cell_type": "code",
      "metadata": {
        "id": "suLyGPJVsuNB"
      },
      "source": [
        "print(\"Hi, I'm Chacha the Chatbot!\")\n",
        "print(\"I like to dance the cha-cha-cha.\")"
      ],
      "execution_count": null,
      "outputs": []
    },
    {
      "cell_type": "markdown",
      "metadata": {
        "id": "g2Mi14Efs4CQ"
      },
      "source": [
        "**Your turn!** Below, use `print` to print out a sentence about yourself."
      ]
    },
    {
      "cell_type": "code",
      "metadata": {
        "id": "9qlTN-tgs3ig"
      },
      "source": [
        "#YOUR CODE HERE"
      ],
      "execution_count": null,
      "outputs": []
    },
    {
      "cell_type": "markdown",
      "metadata": {
        "id": "U58CuGzd-E7z"
      },
      "source": [
        "Try this one! If it doesn't work, **can you fix it**?"
      ]
    },
    {
      "cell_type": "code",
      "metadata": {
        "id": "V6HIHMcf-EVI"
      },
      "source": [
        "print(I hope this prints out properly)"
      ],
      "execution_count": null,
      "outputs": []
    },
    {
      "cell_type": "markdown",
      "metadata": {
        "id": "VsUsEFXotMGw"
      },
      "source": [
        "Here's another example! **Before you run this code, predict what it will print out.**"
      ]
    },
    {
      "cell_type": "code",
      "metadata": {
        "id": "fHHpN-6ttLqu"
      },
      "source": [
        "#print(\"Hickory dickory dock\")\n",
        "print(\"The cat ran up the clock.\")"
      ],
      "execution_count": null,
      "outputs": []
    },
    {
      "cell_type": "markdown",
      "metadata": {
        "id": "xzXhKxk8uAoy"
      },
      "source": [
        "Huh? Why didn't it print two lines?\n",
        "\n",
        "When you start a line with `#`, it becomes a **comment**: you can use it to write notes for yourself or other programmers, but the computer will ignore it. \n",
        "\n",
        "Below, try **uncommenting** certain lines so that the program prints out a true sentence!"
      ]
    },
    {
      "cell_type": "code",
      "metadata": {
        "id": "ayQJ9jvht_3F"
      },
      "source": [
        "#Uncomment the right lines below!\n",
        "\n",
        "print(\"I\")\n",
        "#print(\"love\")\n",
        "print(\"hate\")\n",
        "#print(\"eating\")\n",
        "#print(\"fried\")\n",
        "print(\"boiled\")\n",
        "print(\"pizza\")\n",
        "#print(\"potatoes\")\n",
        "#print(\"vegetables\")"
      ],
      "execution_count": null,
      "outputs": []
    },
    {
      "cell_type": "markdown",
      "metadata": {
        "id": "bxffC3RgxC_C"
      },
      "source": [
        "#Variables\n",
        "Cool - now our chatbot can talk! Now, let's learn to personalize what it says. For this, we'll use a **variable**: think of it like a \"box\" that can fit whatever you put in it. Below, please put your name in the `name` variable (\"box\")."
      ]
    },
    {
      "cell_type": "code",
      "metadata": {
        "id": "DkLuIwboI6yC"
      },
      "source": [
        "name = \"\" #Change this to your name!\n",
        "print(name)"
      ],
      "execution_count": null,
      "outputs": []
    },
    {
      "cell_type": "markdown",
      "metadata": {
        "id": "LrwkYLLp2nGr"
      },
      "source": [
        "Now, make a prediction! **What will this code print?**"
      ]
    },
    {
      "cell_type": "code",
      "metadata": {
        "id": "TH_Hh1w22mkf"
      },
      "source": [
        "print(name)\n",
        "print(\"name\")"
      ],
      "execution_count": null,
      "outputs": []
    },
    {
      "cell_type": "markdown",
      "metadata": {
        "id": "lqxfccqn2unj"
      },
      "source": [
        "**Huh! Can you explain the difference between the two lines?** \n",
        "\n",
        "How about this block?"
      ]
    },
    {
      "cell_type": "code",
      "metadata": {
        "id": "oYMjxvms2uHv"
      },
      "source": [
        "name = \"Bidisha\"\n",
        "print(name)\n",
        "name = \"Liz\"\n",
        "print(name)"
      ],
      "execution_count": null,
      "outputs": []
    },
    {
      "cell_type": "markdown",
      "metadata": {
        "id": "n3pUjHum3Hdo"
      },
      "source": [
        "So you can change a variable! Finally, we can customize our chatbot's greeting:\n"
      ]
    },
    {
      "cell_type": "code",
      "metadata": {
        "id": "V5kNN9PK3FWo"
      },
      "source": [
        "print(\"Help me \" + name + \", I'm trapped in the computer!\")"
      ],
      "execution_count": null,
      "outputs": []
    },
    {
      "cell_type": "markdown",
      "metadata": {
        "id": "GnQZycd-3mgM"
      },
      "source": [
        "Below, **make your chatbot print a customized greeting using the `name` variable!** "
      ]
    },
    {
      "cell_type": "code",
      "metadata": {
        "id": "zKMhWCXD3v57"
      },
      "source": [
        "#YOUR CODE HERE\n"
      ],
      "execution_count": null,
      "outputs": []
    },
    {
      "cell_type": "markdown",
      "metadata": {
        "id": "SC8Emm3L3wqY"
      },
      "source": [
        "#Getting User Input\n",
        "Now our chatbot can make customized greetings using variables!\n",
        "\n",
        "But when we publish out chatbot to a website, we won't have the name in our code! We'll have to ask the user to **input** their own name. Here's how that works:"
      ]
    },
    {
      "cell_type": "code",
      "metadata": {
        "id": "2fIqLnJSIXmN"
      },
      "source": [
        "name = input(\"What's your name? \")\n",
        "\n",
        "#Now, the name variable contains the answer!\n",
        "\n",
        "print(name)"
      ],
      "execution_count": null,
      "outputs": []
    },
    {
      "cell_type": "markdown",
      "metadata": {
        "id": "qNGtYVWK8JhH"
      },
      "source": [
        "Now, use `input` and the `name` variable to make a chatbot that:\n",
        "\n",
        "*   Asks the user's name\n",
        "*   Greets the user by name!\n",
        "\n",
        "You can make it as complex as you'd like!\n"
      ]
    },
    {
      "cell_type": "code",
      "metadata": {
        "id": "xiaXsVIr6CTt"
      },
      "source": [
        "#YOUR CODE HERE\n"
      ],
      "execution_count": null,
      "outputs": []
    },
    {
      "cell_type": "markdown",
      "metadata": {
        "id": "XCJnydGTCFf3"
      },
      "source": [
        "#Planning our COVID-19 Symptom Checker Chatbot\n",
        "\n",
        "Finally, we can start to use our skills to build a COVID-19 symptom chatbot! Our chatbot should start by asking the user about their symptoms. Let's start with a cough:"
      ]
    },
    {
      "cell_type": "code",
      "metadata": {
        "id": "OJfzZCdaCI2d"
      },
      "source": [
        "has_cough = input(\"Do you have a cough? \")"
      ],
      "execution_count": null,
      "outputs": []
    },
    {
      "cell_type": "markdown",
      "metadata": {
        "id": "zyuNlV-HCkQd"
      },
      "source": [
        "Try printing out `has_cough`. Is it what you expect?"
      ]
    },
    {
      "cell_type": "code",
      "metadata": {
        "id": "AD69CNWzCjCZ"
      },
      "source": [
        "#YOUR CODE HERE"
      ],
      "execution_count": null,
      "outputs": []
    },
    {
      "cell_type": "markdown",
      "metadata": {
        "id": "SwykObvQIWdL"
      },
      "source": [
        "Now, we have to provide a useful response! Think about what would be useful for a person wondering about their health - based on their answer, are they likely to have COVID-19? What should they do next?\n",
        "\n",
        "**Discuss:**\n",
        "*  What should the bot answer if the user says \"yes\"?\n",
        "*  What should the bot answer if the user says \"no\"?"
      ]
    },
    {
      "cell_type": "code",
      "metadata": {
        "id": "lW0t9d-qHHr4"
      },
      "source": [
        "'''\n",
        "\n",
        "'''"
      ],
      "execution_count": null,
      "outputs": []
    },
    {
      "cell_type": "markdown",
      "metadata": {
        "id": "PQA2UX35FNcO"
      },
      "source": [
        "#Building our COVID-19 Symptom Checker Chatbot\n",
        "\n",
        "Let's adapt our code from before to make the chatbot respond  appropriately. Test it out with different inputs!\n",
        "\n",
        "To test if two things are equal to each other, we can use the `==` sign! This will give us `True` if they are equal, and `False` if they aren't. We can use it in this way:\n",
        "\n",
        "```python\n",
        "if symptom == \"yes\":\n",
        "  do some code\n",
        "else:\n",
        "  do some other code\n",
        "```"
      ]
    },
    {
      "cell_type": "code",
      "metadata": {
        "id": "aDnWHgeiFF6H"
      },
      "source": [
        "has_cough = input(\"Do you have a cough? \")\n",
        "\n",
        "if has_cough == \"yes\":\n",
        "  print() #FILL THIS IN!\n",
        "else:\n",
        "  print() #FILL THIS IN!"
      ],
      "execution_count": null,
      "outputs": []
    },
    {
      "cell_type": "markdown",
      "metadata": {
        "id": "7aaEwyJFP26f"
      },
      "source": [
        "Now your chatbot responds appropriately if you say \"yes\" or \"no\"!\n",
        "\n",
        "But what if you say \"yup\" or nonsense like \"sdfgfdgsdfg\"? \n",
        "\n",
        "Your chatbot gets mixed up and thinks you said \"no\"!\n",
        "\n",
        "Let's make it a little more selective using `elif` (short for \"else if\"). Experiment with different inputs and fill in the right responses! **How does elif work?**"
      ]
    },
    {
      "cell_type": "code",
      "metadata": {
        "id": "t4pD1k5FQbjr"
      },
      "source": [
        "has_cough = input(\"Do you have a cough? \")\n",
        "\n",
        "if has_cough == \"yes\":\n",
        "  print() #FILL THIS IN!\n",
        "elif has_cough == \"no\":\n",
        "  print() #FILL THIS IN!\n",
        "else:\n",
        "  print(\"I don't understand what you said, please say yes or no!\")"
      ],
      "execution_count": null,
      "outputs": []
    },
    {
      "cell_type": "markdown",
      "metadata": {
        "id": "07J6_xRcBV-O"
      },
      "source": [
        "#Loops for Our COVID Chatbot\n",
        "\n",
        "Now, let's head back to our COVID chatbot.\n",
        "\n",
        "When we ask the user about their symptoms, we want to make sure they say `yes` or `no` - otherwise, we should ask them again! \n",
        "\n",
        "Please complete the code below so that:\n",
        "\n",
        "*   The chatbot says the right things\n",
        "*   `keep_asking` becomes `no` once we've understood the user's answer! \n",
        "\n"
      ]
    },
    {
      "cell_type": "code",
      "metadata": {
        "id": "cIWnEzZUCCtj"
      },
      "source": [
        "keep_asking = \"yes\"\n",
        "\n",
        "while keep_asking == \"yes\":\n",
        "\n",
        "  answer = input(\"Do you have a cough? Enter yes or no. \") \n",
        "\n",
        "  if answer == \"yes\":\n",
        "    print(\"Your answer was yes! Good-bye.\")\n",
        "    #YOUR CODE HERE: Add a line here to change keep_asking!\n",
        "  elif answer == \"no\":\n",
        "    print(\"\") #FILL THIS IN\n",
        "    #YOUR CODE HERE: Add a line here!\n",
        "  else:\n",
        "    print(\"\") #FILL THIS IN\n",
        "  \n",
        "print(\"Your final answer is: \" + answer)"
      ],
      "execution_count": null,
      "outputs": []
    },
    {
      "cell_type": "markdown",
      "metadata": {
        "id": "TluE-ODAG-Hg"
      },
      "source": [
        "Cool - our input is now foolproof! Our chatbot will keep asking until it gets a proper answer.\n",
        "\n",
        "But this is kind of a lot of code. Imagine us asking about five different symptoms and having to write something like this each time! We're going to use **functions** to help us write code more efficiently. "
      ]
    },
    {
      "cell_type": "markdown",
      "metadata": {
        "id": "dzDstnb_cqqt"
      },
      "source": [
        "#A Thorough Symptom Checker with Functions\n",
        "Now, let's use our code from before to create a function that asks the user a question until it gets a satisfactory answer. By reusing this function, we'll be able to quickly collect information on lots of symptoms!\n",
        "\n",
        "You might be wondering what the `symptom` is inside the parentheses. For some functions, we can pass an **argument** to the function to use. (That's a confusing name for an input; it's got nothing to do with arguing!). This one in the function below is the symptom we will be checking.\n",
        "\n",
        "A function can also **return** a value, so that we can use the result again.\n",
        "\n",
        "Fill in the `check_symptom` function below to be able to check different symptoms in the same format and return the answer! We'll use both if statements and a while loop here."
      ]
    },
    {
      "cell_type": "code",
      "metadata": {
        "id": "AuZPrpyfdA5S"
      },
      "source": [
        "def check_symptom(symptom):\n",
        "  keep_asking = \"yes\"\n",
        "\n",
        "  while keep_asking == \"yes\": \n",
        "\n",
        "    answer = input(\"Do you have \" + symptom + \"? \")\n",
        "\n",
        "    #Fill in an if/elif/else here! Check out the \"Loops for Our Covid Chatbot\" section.\n",
        "    #YOUR CODE HERE\n",
        "\n",
        "\n",
        "  return answer #Notice this is AFTER the loop."
      ],
      "execution_count": null,
      "outputs": []
    },
    {
      "cell_type": "markdown",
      "metadata": {
        "id": "GN3v_shpeLFa"
      },
      "source": [
        "##Optional: Using Multiple Symptoms\n",
        "\n",
        "Now, we can very quickly collect information on all the user's symptoms! Below, we've asked about two symptoms. Please ask about at least three more possible symptoms! Check out the [CDC website](https://www.cdc.gov/coronavirus/2019-ncov/symptoms-testing/symptoms.html) for a list."
      ]
    },
    {
      "cell_type": "code",
      "metadata": {
        "id": "GYTvaeJFeJZS"
      },
      "source": [
        "cough = check_symptom(\"a cough\")\n",
        "fever = check_symptom(\"a fever\")\n",
        "#Ask for at least three more!"
      ],
      "execution_count": null,
      "outputs": []
    },
    {
      "cell_type": "markdown",
      "metadata": {
        "id": "jY8liguFtcwW"
      },
      "source": [
        "Now our chatbot can use data from all the user's different symptoms! Here's a simple way we could set that up. Please **fill in the appropriate responses** and **extend the chatbot to handle more symptoms!**"
      ]
    },
    {
      "cell_type": "code",
      "metadata": {
        "id": "LiITQS8otbWU"
      },
      "source": [
        "cough = check_symptom(\"a cough\")\n",
        "fever = check_symptom(\"a fever\")\n",
        "\n",
        "if cough == \"yes\":\n",
        "  print(\"Because you have a cough, it's possible you have COVID.\")\n",
        "else:\n",
        "  print(\"Because you don't have a cough, \") #FILL ME IN\n",
        "\n",
        "if fever == \"yes\":\n",
        "  print(\"Because you have a fever, \") #FILL ME IN\n",
        "else:\n",
        "  print(\" \") #FILL ME IN"
      ],
      "execution_count": null,
      "outputs": []
    },
    {
      "cell_type": "markdown",
      "metadata": {
        "id": "2mjR6WJq2PoQ"
      },
      "source": [
        "**Discuss:** What do you think of this approach? Do you ever get contradictory results? How could we structure our code for a more accurate chatbot?\n",
        "\n",
        "We'll see some approaches next time! For now, experiment below with making a better chatbot:\n"
      ]
    },
    {
      "cell_type": "code",
      "metadata": {
        "id": "30HAN3792V-5"
      },
      "source": [
        "#Experiment here!"
      ],
      "execution_count": null,
      "outputs": []
    }
  ]
}